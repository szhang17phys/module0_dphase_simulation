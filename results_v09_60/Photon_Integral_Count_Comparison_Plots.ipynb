{
 "cells": [
  {
   "cell_type": "code",
   "execution_count": 3,
   "id": "f2112040",
   "metadata": {},
   "outputs": [],
   "source": [
    "import numpy as np\n",
    "import matplotlib.pyplot as plt\n",
    "%matplotlib inline"
   ]
  },
  {
   "cell_type": "code",
   "execution_count": 4,
   "id": "4700b713",
   "metadata": {},
   "outputs": [],
   "source": [
    "energies = np.array([0.5, 0.7, 1, 4, 7]) # units: GeV\n",
    "\n",
    "# Values taken from the output of the macro I wrote.\n",
    "# Approximate values copied from program output that\n",
    "# defaults to scientific notation with this precision.\n",
    "hCountDetected_Integral = np.array([5.48839e+08, \n",
    "                                   1.17848e+09, \n",
    "                                   3.59546e+09, \n",
    "                                   5.35455e+09, \n",
    "                                   5.67293e+09]) \n",
    "\n",
    "# Values taken from the output of the macro I wrote.\n",
    "# Values have full precision and have been converted\n",
    "# to scientific notation manually here.\n",
    "nentries_CountDetected = np.array([5.48838952e+08, \n",
    "                                  1.178478167e+09, \n",
    "                                  -6.99504932e+08, \n",
    "                                  1.0595800464e+10, \n",
    "                                  1.377967121e+09])\n",
    "\n",
    "# After noticing that one of the values in the above\n",
    "# array is negative, I decided to copy the values\n",
    "# displayed in the stats box for comparison. These\n",
    "# values are taken from the 'Time' branch.\n",
    "nentries_CountDetected_fromGraph = np.array([5.48839e+08,\n",
    "                                            1.178478e+09,\n",
    "                                            3.595462e+09,\n",
    "                                            5.354548e+09,\n",
    "                                            5.672934e+09])\n",
    "\n",
    "# I don't know if it has any meaning, but this is the\n",
    "# array that contains the number displayed in a \n",
    "# TBrowser after the CountDetected tree\n",
    "# (ex. \"CountDetected;23\").\n",
    "number_after_CountDetected_tree = np.array([27, 48, 91, 110, 111])\n",
    "\n",
    "# Value for when there are two CountDetected trees.\n",
    "# These values are also taken from the 'Time' branch.\n",
    "# Q: Why are there two CountDetected trees?\n",
    "nentries_CountDetected_fromGraph2 = np.array([5.321195e+08,\n",
    "                                             1.167041e+09,\n",
    "                                             3.574033e+09,\n",
    "                                             5.351332e+09,\n",
    "                                             5.637403e+09]) \n",
    "\n",
    "# See above comment about number_after_CountDetected_tree.\n",
    "# For some reason, the second number is always one less than \n",
    "# the first number.\n",
    "number_after_CountDetected_tree2 = np.array([26, 47, 90, 109, 110])"
   ]
  },
  {
   "cell_type": "code",
   "execution_count": null,
   "id": "ba024535",
   "metadata": {},
   "outputs": [],
   "source": []
  },
  {
   "cell_type": "code",
   "execution_count": null,
   "id": "544fe5d3",
   "metadata": {},
   "outputs": [],
   "source": []
  },
  {
   "cell_type": "code",
   "execution_count": null,
   "id": "750e25bf",
   "metadata": {},
   "outputs": [],
   "source": []
  },
  {
   "cell_type": "code",
   "execution_count": null,
   "id": "7ac7feb2",
   "metadata": {},
   "outputs": [],
   "source": []
  }
 ],
 "metadata": {
  "kernelspec": {
   "display_name": "Python 3 (ipykernel)",
   "language": "python",
   "name": "python3"
  },
  "language_info": {
   "codemirror_mode": {
    "name": "ipython",
    "version": 3
   },
   "file_extension": ".py",
   "mimetype": "text/x-python",
   "name": "python",
   "nbconvert_exporter": "python",
   "pygments_lexer": "ipython3",
   "version": "3.10.4"
  }
 },
 "nbformat": 4,
 "nbformat_minor": 5
}
